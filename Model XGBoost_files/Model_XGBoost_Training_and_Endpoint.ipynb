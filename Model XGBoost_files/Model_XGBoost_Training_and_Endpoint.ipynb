{
  "cells": [
    {
      "cell_type": "markdown",
      "metadata": {
        "id": "vJa97jTVT0pO"
      },
      "source": [
        "## Model XGBOOST and Endpoint for Deploy"
      ]
    },
    {
      "cell_type": "markdown",
      "metadata": {
        "id": "iwN01EZLT0pP"
      },
      "source": [
        "## Imports"
      ]
    },
    {
      "cell_type": "code",
      "execution_count": null,
      "metadata": {
        "id": "7vfAEZPST0pP"
      },
      "outputs": [],
      "source": [
        "# Imports\n",
        "import os\n",
        "import json\n",
        "import sagemaker\n",
        "import boto3\n",
        "import numpy as np\n",
        "import pandas as pd\n",
        "from sagemaker.serializers import CSVSerializer\n",
        "from sagemaker.inputs import TrainingInput\n",
        "from sagemaker.predictor import Predictor\n",
        "from sagemaker import get_execution_role"
      ]
    },
    {
      "cell_type": "markdown",
      "metadata": {
        "id": "g1y6GLgLT0pP"
      },
      "source": [
        "## Carrega os Dados"
      ]
    },
    {
      "cell_type": "code",
      "execution_count": null,
      "metadata": {
        "id": "E_CtBNqLT0pQ"
      },
      "outputs": [],
      "source": [
        "# Obtém a sessão do SageMaker\n",
        "session = boto3.Session()"
      ]
    },
    {
      "cell_type": "code",
      "execution_count": null,
      "metadata": {
        "id": "Gw8jH3s_T0pQ"
      },
      "outputs": [],
      "source": [
        "s3 = session.resource('s3')"
      ]
    },
    {
      "cell_type": "code",
      "execution_count": null,
      "metadata": {
        "id": "FuSowAELT0pQ"
      },
      "outputs": [],
      "source": [
        "s3"
      ]
    },
    {
      "cell_type": "code",
      "execution_count": null,
      "metadata": {
        "id": "ltIjJl5-T0pQ"
      },
      "outputs": [],
      "source": [
        "from sagemaker import get_execution_role\n",
        "role = get_execution_role()\n",
        "print(role)"
      ]
    },
    {
      "cell_type": "code",
      "execution_count": null,
      "metadata": {
        "id": "Uk51YEJ2T0pQ"
      },
      "outputs": [],
      "source": [
        "# Altere para o nome do seu bucket\n",
        "s3_bucket = 'eduardo-project-medical-data'\n",
        "prefix = 'dados'"
      ]
    },
    {
      "cell_type": "code",
      "execution_count": null,
      "metadata": {
        "id": "nO29C8PwT0pQ"
      },
      "outputs": [],
      "source": [
        "raiz = 's3://{}/{}/'.format(s3_bucket, prefix)\n",
        "print(raiz)"
      ]
    },
    {
      "cell_type": "code",
      "execution_count": null,
      "metadata": {
        "id": "AaFMm9FeT0pQ"
      },
      "outputs": [],
      "source": [
        "dados_treino = TrainingInput(s3_data = raiz + 'treino.csv', content_type = 'csv')\n",
        "dados_teste = TrainingInput(s3_data = raiz + 'teste.csv', content_type = 'csv')"
      ]
    },
    {
      "cell_type": "code",
      "execution_count": null,
      "metadata": {
        "id": "sSNxZunaT0pQ"
      },
      "outputs": [],
      "source": [
        "print(json.dumps(dados_treino.__dict__, indent = 2))"
      ]
    },
    {
      "cell_type": "code",
      "execution_count": null,
      "metadata": {
        "id": "TLuVlDQTT0pR"
      },
      "outputs": [],
      "source": [
        "print(json.dumps(dados_teste.__dict__, indent = 2))"
      ]
    },
    {
      "cell_type": "markdown",
      "metadata": {
        "id": "A2tfNVYiT0pR"
      },
      "source": [
        "## Construção e Treinamento do Modelo XGB"
      ]
    },
    {
      "cell_type": "code",
      "execution_count": null,
      "metadata": {
        "id": "-b53spvlT0pR"
      },
      "outputs": [],
      "source": [
        "\n",
        "container_uri = sagemaker.image_uris.retrieve(region = session.region_name,\n",
        "                                              framework = 'xgboost',\n",
        "                                              version = '1.0-1',\n",
        "                                              image_scope = 'training')"
      ]
    },
    {
      "cell_type": "markdown",
      "metadata": {
        "id": "yU03X45WUZGl"
      },
      "source": [
        "Criação do Container - seguindo a documentação da AWS estou criando um container para podermos usar apenas para treinamento uma máquina mais\n",
        "potente disponível na versão gratuita do SageMaker. Para os parametros da função abaixo estou recuperando os dados da região utilizando o BOTO, os demais\n",
        "parametros são ajustaveis, mas é necessário conferir os custos."
      ]
    },
    {
      "cell_type": "code",
      "execution_count": null,
      "metadata": {
        "id": "U-VB5gD5T0pR"
      },
      "outputs": [],
      "source": [
        "# Argumentos do estimador para serem usados na função de criação\n",
        "sagemaker_execution_role = role\n",
        "sagemaker_session = sagemaker.Session()"
      ]
    },
    {
      "cell_type": "code",
      "execution_count": null,
      "metadata": {
        "id": "6jbJnH54T0pR"
      },
      "outputs": [],
      "source": [
        "# Criação do Estimador - estou seguindo a documentação para a criação.\n",
        "xgb = sagemaker.estimator.Estimator(image_uri = container_uri,\n",
        "                                    role = sagemaker_execution_role,\n",
        "                                    instance_count = 2,\n",
        "                                    instance_type = 'ml.m5.large', #note que essa máquina/instancia tem apenas 50 hrs no nível gratuito.\n",
        "                                    output_path = 's3://{}/artefatos'.format(s3_bucket),\n",
        "                                    sagemaker_session = sagemaker_session,\n",
        "                                    base_job_name = 'classifier')"
      ]
    },
    {
      "cell_type": "code",
      "execution_count": null,
      "metadata": {
        "id": "wsHuq-OKT0pR"
      },
      "outputs": [],
      "source": [
        "# Definição dos Hiperparâmetros - consultar a documenação caso queira mudar\n",
        "xgb.set_hyperparameters(objective = 'binary:logistic', num_round = 100)"
      ]
    },
    {
      "cell_type": "code",
      "execution_count": null,
      "metadata": {
        "id": "8VPYN2DJT0pR"
      },
      "outputs": [],
      "source": [
        "# Treinamento do modelo\n",
        "xgb.fit({'train': dados_treino, 'validation': dados_teste})"
      ]
    },
    {
      "cell_type": "markdown",
      "metadata": {
        "id": "kn_CeN5jT0pR"
      },
      "source": [
        "## Gerando o Endpoint a Partir do Modelo"
      ]
    },
    {
      "cell_type": "code",
      "execution_count": null,
      "metadata": {
        "id": "gL0eklHpT0pR"
      },
      "outputs": [],
      "source": [
        "\n",
        "xgb_predictor = xgb.deploy(initial_instance_count = 2, instance_type = 'ml.m5.large')"
      ]
    },
    {
      "cell_type": "markdown",
      "metadata": {
        "id": "6xY3dVKkUf14"
      },
      "source": [
        "Deploy do modelo treinado criando o endpoint o .deploy ajusta o resultado para que possa ser usado os resultados para outros propositos, inclusive o deploy\n",
        "e dessa forma salvamos o modelo para ser usado por aplicações."
      ]
    },
    {
      "cell_type": "markdown",
      "metadata": {
        "id": "PL96TDbFT0pR"
      },
      "source": [
        "## Previsões a Partir do Endpoint"
      ]
    },
    {
      "cell_type": "code",
      "execution_count": null,
      "metadata": {
        "id": "d2sinzSJT0pR"
      },
      "outputs": [],
      "source": [
        "csv_serializer = CSVSerializer()"
      ]
    },
    {
      "cell_type": "code",
      "execution_count": null,
      "metadata": {
        "id": "WmvrwhqhT0pS"
      },
      "outputs": [],
      "source": [
        "predictor = Predictor(endpoint_name = xgb_predictor.endpoint_name, serializer = csv_serializer)"
      ]
    },
    {
      "cell_type": "code",
      "execution_count": null,
      "metadata": {
        "id": "KzCDrViZT0pS"
      },
      "outputs": [],
      "source": [
        "df_teste = pd.read_csv(raiz + 'teste.csv', names = ['class', 'bmi', 'diastolic_bp_change', 'systolic_bp_change', 'respiratory_rate'])"
      ]
    },
    {
      "cell_type": "code",
      "execution_count": null,
      "metadata": {
        "id": "bTYbMQkLT0pS",
        "outputId": "d20e4473-f7df-4014-e314-291992407e9a"
      },
      "outputs": [
        {
          "data": {
            "text/html": [
              "<div>\n",
              "<style scoped>\n",
              "    .dataframe tbody tr th:only-of-type {\n",
              "        vertical-align: middle;\n",
              "    }\n",
              "\n",
              "    .dataframe tbody tr th {\n",
              "        vertical-align: top;\n",
              "    }\n",
              "\n",
              "    .dataframe thead th {\n",
              "        text-align: right;\n",
              "    }\n",
              "</style>\n",
              "<table border=\"1\" class=\"dataframe\">\n",
              "  <thead>\n",
              "    <tr style=\"text-align: right;\">\n",
              "      <th></th>\n",
              "      <th>class</th>\n",
              "      <th>bmi</th>\n",
              "      <th>diastolic_bp_change</th>\n",
              "      <th>systolic_bp_change</th>\n",
              "      <th>respiratory_rate</th>\n",
              "    </tr>\n",
              "  </thead>\n",
              "  <tbody>\n",
              "    <tr>\n",
              "      <th>0</th>\n",
              "      <td>0</td>\n",
              "      <td>-0.940089</td>\n",
              "      <td>-0.403964</td>\n",
              "      <td>-0.279542</td>\n",
              "      <td>-0.817379</td>\n",
              "    </tr>\n",
              "    <tr>\n",
              "      <th>1</th>\n",
              "      <td>0</td>\n",
              "      <td>-0.502614</td>\n",
              "      <td>-0.665582</td>\n",
              "      <td>0.131742</td>\n",
              "      <td>-0.362450</td>\n",
              "    </tr>\n",
              "    <tr>\n",
              "      <th>2</th>\n",
              "      <td>0</td>\n",
              "      <td>1.078473</td>\n",
              "      <td>0.347981</td>\n",
              "      <td>0.228029</td>\n",
              "      <td>-0.817379</td>\n",
              "    </tr>\n",
              "    <tr>\n",
              "      <th>3</th>\n",
              "      <td>1</td>\n",
              "      <td>-0.636164</td>\n",
              "      <td>-0.251491</td>\n",
              "      <td>0.587034</td>\n",
              "      <td>-0.817379</td>\n",
              "    </tr>\n",
              "    <tr>\n",
              "      <th>4</th>\n",
              "      <td>1</td>\n",
              "      <td>-0.528479</td>\n",
              "      <td>2.037253</td>\n",
              "      <td>1.383463</td>\n",
              "      <td>0.185934</td>\n",
              "    </tr>\n",
              "  </tbody>\n",
              "</table>\n",
              "</div>"
            ],
            "text/plain": [
              "   class       bmi  diastolic_bp_change  systolic_bp_change  respiratory_rate\n",
              "0      0 -0.940089            -0.403964           -0.279542         -0.817379\n",
              "1      0 -0.502614            -0.665582            0.131742         -0.362450\n",
              "2      0  1.078473             0.347981            0.228029         -0.817379\n",
              "3      1 -0.636164            -0.251491            0.587034         -0.817379\n",
              "4      1 -0.528479             2.037253            1.383463          0.185934"
            ]
          },
          "execution_count": 22,
          "metadata": {},
          "output_type": "execute_result"
        }
      ],
      "source": [
        "df_teste.head()"
      ]
    },
    {
      "cell_type": "code",
      "execution_count": null,
      "metadata": {
        "id": "t4sOdpbPT0pS",
        "outputId": "945ce608-258d-408f-fc91-3a6cc9e6e0d2"
      },
      "outputs": [
        {
          "data": {
            "text/html": [
              "<div>\n",
              "<style scoped>\n",
              "    .dataframe tbody tr th:only-of-type {\n",
              "        vertical-align: middle;\n",
              "    }\n",
              "\n",
              "    .dataframe tbody tr th {\n",
              "        vertical-align: top;\n",
              "    }\n",
              "\n",
              "    .dataframe thead th {\n",
              "        text-align: right;\n",
              "    }\n",
              "</style>\n",
              "<table border=\"1\" class=\"dataframe\">\n",
              "  <thead>\n",
              "    <tr style=\"text-align: right;\">\n",
              "      <th></th>\n",
              "      <th>class</th>\n",
              "      <th>bmi</th>\n",
              "      <th>diastolic_bp_change</th>\n",
              "      <th>systolic_bp_change</th>\n",
              "      <th>respiratory_rate</th>\n",
              "    </tr>\n",
              "  </thead>\n",
              "  <tbody>\n",
              "    <tr>\n",
              "      <th>1017</th>\n",
              "      <td>0</td>\n",
              "      <td>-0.022864</td>\n",
              "      <td>-0.496655</td>\n",
              "      <td>2.153753</td>\n",
              "      <td>-0.067314</td>\n",
              "    </tr>\n",
              "  </tbody>\n",
              "</table>\n",
              "</div>"
            ],
            "text/plain": [
              "      class       bmi  diastolic_bp_change  systolic_bp_change  \\\n",
              "1017      0 -0.022864            -0.496655            2.153753   \n",
              "\n",
              "      respiratory_rate  \n",
              "1017         -0.067314  "
            ]
          },
          "execution_count": 23,
          "metadata": {},
          "output_type": "execute_result"
        }
      ],
      "source": [
        "X = df_teste.sample(1)\n",
        "X"
      ]
    },
    {
      "cell_type": "code",
      "execution_count": null,
      "metadata": {
        "id": "EOAYxoQ3T0pS",
        "outputId": "8d5aec7a-84e4-4850-f7cc-48df2124cbd5"
      },
      "outputs": [
        {
          "data": {
            "text/plain": [
              "array([-0.02286428, -0.49665455,  2.15375335, -0.06731361])"
            ]
          },
          "execution_count": 24,
          "metadata": {},
          "output_type": "execute_result"
        }
      ],
      "source": [
        "X = X.values[0]\n",
        "X[1:]"
      ]
    },
    {
      "cell_type": "code",
      "execution_count": null,
      "metadata": {
        "id": "lgQz6z7oT0pS",
        "outputId": "802fa68d-57d0-4bf9-afce-afb4ddea9969"
      },
      "outputs": [
        {
          "data": {
            "text/plain": [
              "array([-0.02286428, -0.49665455,  2.15375335, -0.06731361])"
            ]
          },
          "execution_count": 25,
          "metadata": {},
          "output_type": "execute_result"
        }
      ],
      "source": [
        "paciente = X[1:]\n",
        "paciente"
      ]
    },
    {
      "cell_type": "code",
      "execution_count": null,
      "metadata": {
        "id": "iD_Y2-7OT0pS",
        "outputId": "061458be-2229-4369-a22d-f6e832168496"
      },
      "outputs": [
        {
          "name": "stdout",
          "output_type": "stream",
          "text": [
            "Previsão = Não Diabético\n",
            "\n"
          ]
        }
      ],
      "source": [
        "# Faz a previsão de um paciente\n",
        "predicted_class_prob = predictor.predict(paciente).decode('utf-8')\n",
        "if float(predicted_class_prob) < 0.5:\n",
        "    print('Previsão = Não Diabético')\n",
        "else:\n",
        "    print('Previsão = Diabético')\n",
        "print()"
      ]
    },
    {
      "cell_type": "markdown",
      "metadata": {
        "id": "vFZtSxf2T0pS"
      },
      "source": [
        "## Avaliando o Modelo"
      ]
    },
    {
      "cell_type": "code",
      "execution_count": null,
      "metadata": {
        "id": "33QOGwCDT0pS"
      },
      "outputs": [],
      "source": [
        "# Previsão de todos os pacientes no dataset de teste\n",
        "predictions = []\n",
        "expected = []\n",
        "correct = 0\n",
        "for row in df_teste.values:\n",
        "    expected_class = row[0]\n",
        "    payload = row[1:]\n",
        "    predicted_class_prob = predictor.predict(payload).decode('utf-8')\n",
        "    predicted_class = 1\n",
        "    if float(predicted_class_prob) < 0.5:\n",
        "        predicted_class = 0\n",
        "    if predicted_class == expected_class:\n",
        "        correct += 1\n",
        "    predictions.append(predicted_class)\n",
        "    expected.append(expected_class)"
      ]
    },
    {
      "cell_type": "code",
      "execution_count": null,
      "metadata": {
        "id": "15BCxpIET0pS",
        "outputId": "50035761-f290-4062-bcf7-aeb888c99588"
      },
      "outputs": [
        {
          "name": "stdout",
          "output_type": "stream",
          "text": [
            "Acurácia = 77.72%\n"
          ]
        }
      ],
      "source": [
        "print('Acurácia = {:.2f}%'.format(correct/len(predictions) * 100))"
      ]
    },
    {
      "cell_type": "markdown",
      "metadata": {
        "id": "Hu2HjR00T0pS"
      },
      "source": [
        "#### Confusion Matrix"
      ]
    },
    {
      "cell_type": "code",
      "execution_count": null,
      "metadata": {
        "id": "PqaTzmCWT0pS",
        "outputId": "90e78de3-4e2b-42be-fdf6-ed23ef04c0e9"
      },
      "outputs": [
        {
          "data": {
            "text/html": [
              "<div>\n",
              "<style scoped>\n",
              "    .dataframe tbody tr th:only-of-type {\n",
              "        vertical-align: middle;\n",
              "    }\n",
              "\n",
              "    .dataframe tbody tr th {\n",
              "        vertical-align: top;\n",
              "    }\n",
              "\n",
              "    .dataframe thead th {\n",
              "        text-align: right;\n",
              "    }\n",
              "</style>\n",
              "<table border=\"1\" class=\"dataframe\">\n",
              "  <thead>\n",
              "    <tr style=\"text-align: right;\">\n",
              "      <th>Predicted</th>\n",
              "      <th>0</th>\n",
              "      <th>1</th>\n",
              "      <th>All</th>\n",
              "    </tr>\n",
              "    <tr>\n",
              "      <th>Actual</th>\n",
              "      <th></th>\n",
              "      <th></th>\n",
              "      <th></th>\n",
              "    </tr>\n",
              "  </thead>\n",
              "  <tbody>\n",
              "    <tr>\n",
              "      <th>0.0</th>\n",
              "      <td>1909</td>\n",
              "      <td>71</td>\n",
              "      <td>1980</td>\n",
              "    </tr>\n",
              "    <tr>\n",
              "      <th>1.0</th>\n",
              "      <td>483</td>\n",
              "      <td>24</td>\n",
              "      <td>507</td>\n",
              "    </tr>\n",
              "    <tr>\n",
              "      <th>All</th>\n",
              "      <td>2392</td>\n",
              "      <td>95</td>\n",
              "      <td>2487</td>\n",
              "    </tr>\n",
              "  </tbody>\n",
              "</table>\n",
              "</div>"
            ],
            "text/plain": [
              "Predicted     0   1   All\n",
              "Actual                   \n",
              "0.0        1909  71  1980\n",
              "1.0         483  24   507\n",
              "All        2392  95  2487"
            ]
          },
          "execution_count": 29,
          "metadata": {},
          "output_type": "execute_result"
        }
      ],
      "source": [
        "expected = pd.Series(np.array(expected))\n",
        "predictions = pd.Series(np.array(predictions))\n",
        "pd.crosstab(expected, predictions, rownames = ['Actual'], colnames = ['Predicted'], margins = True)"
      ]
    },
    {
      "cell_type": "markdown",
      "metadata": {
        "id": "IgA4jxRlT0pS"
      },
      "source": [
        "**That's all folks**"
      ]
    }
  ],
  "metadata": {
    "colab": {
      "provenance": []
    },
    "instance_type": "ml.t3.medium",
    "kernelspec": {
      "display_name": "Python 3 (ipykernel)",
      "language": "python",
      "name": "python3"
    },
    "language_info": {
      "codemirror_mode": {
        "name": "ipython",
        "version": 3
      },
      "file_extension": ".py",
      "mimetype": "text/x-python",
      "name": "python",
      "nbconvert_exporter": "python",
      "pygments_lexer": "ipython3",
      "version": "3.12.5"
    }
  },
  "nbformat": 4,
  "nbformat_minor": 0
}
